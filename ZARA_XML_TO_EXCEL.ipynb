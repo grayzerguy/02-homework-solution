{
  "nbformat": 4,
  "nbformat_minor": 0,
  "metadata": {
    "colab": {
      "private_outputs": true,
      "provenance": [],
      "authorship_tag": "ABX9TyPrhagYy6t3/V1nSBREHpBA",
      "include_colab_link": true
    },
    "kernelspec": {
      "name": "python3",
      "display_name": "Python 3"
    },
    "language_info": {
      "name": "python"
    }
  },
  "cells": [
    {
      "cell_type": "markdown",
      "metadata": {
        "id": "view-in-github",
        "colab_type": "text"
      },
      "source": [
        "<a href=\"https://colab.research.google.com/github/grayzerguy/02-homework-solution/blob/master/ZARA_XML_TO_EXCEL.ipynb\" target=\"_parent\"><img src=\"https://colab.research.google.com/assets/colab-badge.svg\" alt=\"Open In Colab\"/></a>"
      ]
    },
    {
      "cell_type": "code",
      "source": [
        "from google.colab import files\n",
        "import xml.etree.ElementTree as ET\n",
        "import pandas as pd\n",
        "import os\n",
        "\n",
        "# 📤 העלאת הקובץ\n",
        "uploaded = files.upload()\n",
        "filename = next(iter(uploaded))\n",
        "basename = os.path.splitext(filename)[0]\n",
        "\n",
        "# 🧩 עיבוד XML\n",
        "tree = ET.parse(filename)\n",
        "root = tree.getroot()\n",
        "ns = {'ns': 'http://www.inditex.com/Schemas/Ecommerce/ItxShipmentRequest'}\n",
        "\n",
        "rows = []\n",
        "\n",
        "for order in root.findall('.//ns:Order', ns):\n",
        "    order_data = order.attrib\n",
        "    for parcel in order.find('ns:Parcels', ns).findall('ns:Parcel', ns):\n",
        "        parcel_data = parcel.attrib\n",
        "        row = {\n",
        "\n",
        "            \"OrderNumber\": order_data.get(\"OrderNumber\", \"\"),\n",
        "            \"CustomerName\": order_data.get(\"CustomerName\", \"\"),\n",
        "            \"CustomerSurname\": order_data.get(\"CustomerSurname\", \"\"),\n",
        "            \"Phone\": order_data.get(\"PhoneNumber1\", \"\"),\n",
        "            \"City\": order_data.get(\"City\", \"\"),\n",
        "            \"AddressLine1\": order_data.get(\"AddressLine1\", \"\"),\n",
        "            \"AddressLine2\": order_data.get(\"AddressLine2\", \"\"),\n",
        "            \"ParcelRef\": parcel_data.get(\"InditexBoxReference\", \"\"),\n",
        "            \"CourierRef\": parcel_data.get(\"CourierBoxReference\", \"\"),\n",
        "            \"Weight\": parcel_data.get(\"Weight\", \"\"),\n",
        "            \"PackageType\": parcel_data.get(\"PackageType\", \"\"),\n",
        "            \"SourceFile\": filename,  # עמודה עם שם הקובץ\n",
        "        }\n",
        "        rows.append(row)\n",
        "\n",
        "# 📄 יצירת DataFrame ו־Excel\n",
        "df = pd.DataFrame(rows)\n",
        "output_file = f\"{basename}.xlsx\"\n",
        "df.to_excel(output_file, index=False)\n",
        "\n",
        "# 📥 הורדה למחשב\n",
        "files.download(output_file)\n"
      ],
      "metadata": {
        "id": "Kyj6NxF6xcn7"
      },
      "execution_count": null,
      "outputs": []
    }
  ]
}