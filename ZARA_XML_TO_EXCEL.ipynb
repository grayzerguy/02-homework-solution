{
  "nbformat": 4,
  "nbformat_minor": 0,
  "metadata": {
    "colab": {
      "private_outputs": true,
      "provenance": [],
      "authorship_tag": "ABX9TyObJ0negn8RISRacjAckINj",
      "include_colab_link": true
    },
    "kernelspec": {
      "name": "python3",
      "display_name": "Python 3"
    },
    "language_info": {
      "name": "python"
    }
  },
  "cells": [
    {
      "cell_type": "markdown",
      "metadata": {
        "id": "view-in-github",
        "colab_type": "text"
      },
      "source": [
        "<a href=\"https://colab.research.google.com/github/grayzerguy/02-homework-solution/blob/master/ZARA_XML_TO_EXCEL.ipynb\" target=\"_parent\"><img src=\"https://colab.research.google.com/assets/colab-badge.svg\" alt=\"Open In Colab\"/></a>"
      ]
    },
    {
      "cell_type": "code",
      "source": [
        "from google.colab import files\n",
        "import xml.etree.ElementTree as ET\n",
        "import pandas as pd\n",
        "\n",
        "# שלב 1: העלאת הקובץ\n",
        "uploaded = files.upload()\n",
        "filename = next(iter(uploaded))  # לוקח את שם הקובץ שהועלה\n",
        "\n",
        "# שלב 2: עיבוד הקובץ\n",
        "tree = ET.parse(filename)\n",
        "root = tree.getroot()\n",
        "ns = {'ns': 'http://www.inditex.com/Schemas/Ecommerce/ItxShipmentRequest'}\n",
        "\n",
        "rows = []\n",
        "\n",
        "for order in root.findall('.//ns:Order', ns):\n",
        "    order_data = order.attrib\n",
        "    for parcel in order.find('ns:Parcels', ns).findall('ns:Parcel', ns):\n",
        "        parcel_data = parcel.attrib\n",
        "        row = {\n",
        "            \"OrderNumber\": order_data.get(\"OrderNumber\", \"\"),\n",
        "            \"CustomerName\": order_data.get(\"CustomerName\", \"\"),\n",
        "            \"CustomerSurname\": order_data.get(\"CustomerSurname\", \"\"),\n",
        "            \"Phone\": order_data.get(\"PhoneNumber1\", \"\"),\n",
        "            \"City\": order_data.get(\"City\", \"\"),\n",
        "            \"AddressLine1\": order_data.get(\"AddressLine1\", \"\"),\n",
        "            \"AddressLine2\": order_data.get(\"AddressLine2\", \"\"),\n",
        "            \"ParcelRef\": parcel_data.get(\"InditexBoxReference\", \"\"),\n",
        "            \"CourierRef\": parcel_data.get(\"CourierBoxReference\", \"\"),\n",
        "            \"Weight\": parcel_data.get(\"Weight\", \"\"),\n",
        "            \"PackageType\": parcel_data.get(\"PackageType\", \"\")\n",
        "        }\n",
        "        rows.append(row)\n",
        "\n",
        "# יצירת קובץ Excel\n",
        "df = pd.DataFrame(rows)\n",
        "output_file = \"parcels_output.xlsx\"\n",
        "df.to_excel(output_file, index=False)\n",
        "\n",
        "# שלב 3: הורדה\n",
        "files.download(output_file)\n"
      ],
      "metadata": {
        "id": "jBBbIFVtMBpe"
      },
      "execution_count": null,
      "outputs": []
    }
  ]
}