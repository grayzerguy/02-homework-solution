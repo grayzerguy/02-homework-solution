{
  "nbformat": 4,
  "nbformat_minor": 0,
  "metadata": {
    "colab": {
      "private_outputs": true,
      "provenance": [],
      "authorship_tag": "ABX9TyMcDIA8MpxTKyAdFM9/FeaD",
      "include_colab_link": true
    },
    "kernelspec": {
      "name": "python3",
      "display_name": "Python 3"
    },
    "language_info": {
      "name": "python"
    }
  },
  "cells": [
    {
      "cell_type": "markdown",
      "metadata": {
        "id": "view-in-github",
        "colab_type": "text"
      },
      "source": [
        "<a href=\"https://colab.research.google.com/github/grayzerguy/02-homework-solution/blob/master/ZARA_XML_TO_EXCEL.ipynb\" target=\"_parent\"><img src=\"https://colab.research.google.com/assets/colab-badge.svg\" alt=\"Open In Colab\"/></a>"
      ]
    },
    {
      "cell_type": "markdown",
      "source": [],
      "metadata": {
        "id": "ip3HPFy2GV5Q"
      }
    },
    {
      "cell_type": "markdown",
      "source": [
        "עבור משלוחים זארה\n"
      ],
      "metadata": {
        "id": "-hYvjSS_GXp3"
      }
    },
    {
      "cell_type": "code",
      "source": [
        "from google.colab import files\n",
        "import xml.etree.ElementTree as ET\n",
        "import pandas as pd\n",
        "import os\n",
        "\n",
        "# 📤 העלאת כמה קבצים\n",
        "uploaded = files.upload()\n",
        "\n",
        "# 🧩 פונקציה שמעבדת קובץ XML\n",
        "def process_xml(xml_content, source_name):\n",
        "    root = ET.fromstring(xml_content)\n",
        "    ns = {'ns': 'http://www.inditex.com/Schemas/Ecommerce/ItxShipmentRequest'}\n",
        "    rows = []\n",
        "\n",
        "    for order in root.findall('.//ns:Order', ns):\n",
        "        order_data = order.attrib\n",
        "        for parcel in order.find('ns:Parcels', ns).findall('ns:Parcel', ns):\n",
        "            parcel_data = parcel.attrib\n",
        "            row = {\n",
        "                \"SourceName\": source_name,\n",
        "                \"OrderNumber\": order_data.get(\"OrderNumber\", \"\"),\n",
        "                \"CustomerName\": order_data.get(\"CustomerName\", \"\"),\n",
        "                \"CustomerSurname\": order_data.get(\"CustomerSurname\", \"\"),\n",
        "                \"Phone\": order_data.get(\"PhoneNumber1\", \"\"),\n",
        "                \"City\": order_data.get(\"City\", \"\"),\n",
        "                \"AddressLine1\": order_data.get(\"AddressLine1\", \"\"),\n",
        "                \"AddressLine2\": order_data.get(\"AddressLine2\", \"\"),\n",
        "                \"ParcelRef\": parcel_data.get(\"InditexBoxReference\", \"\"),\n",
        "                \"CourierRef\": parcel_data.get(\"CourierBoxReference\", \"\"),\n",
        "                \"Weight\": parcel_data.get(\"Weight\", \"\"),\n",
        "                \"PackageType\": parcel_data.get(\"PackageType\", \"\")\n",
        "            }\n",
        "            rows.append(row)\n",
        "\n",
        "    return rows\n",
        "\n",
        "# 🔄 עיבוד כל הקבצים\n",
        "all_rows = []\n",
        "\n",
        "for file_name, content in uploaded.items():\n",
        "    # כאן תוכלי להגדיר שם מותאם לכל קובץ:\n",
        "    # לדוגמה: לפי מיפוי ידני או פשוט לפי שם קובץ בלי סיומת\n",
        "    source_name = os.path.splitext(file_name)[0]\n",
        "    rows = process_xml(content.decode('utf-8'), source_name)\n",
        "    all_rows.extend(rows)\n",
        "\n",
        "# 🧾 יצירת DataFrame ו-Excel\n",
        "df = pd.DataFrame(all_rows)\n",
        "output_file = \"combined_parcels.xlsx\"\n",
        "df.to_excel(output_file, index=False)\n",
        "\n",
        "# 📥 הורדה למחשב\n",
        "files.download(output_file)\n"
      ],
      "metadata": {
        "id": "Hc-o3g-Nyc4e"
      },
      "execution_count": null,
      "outputs": []
    },
    {
      "cell_type": "markdown",
      "source": [
        "עבור החזרות זארה"
      ],
      "metadata": {
        "id": "PtiVoJYqGTZG"
      }
    },
    {
      "cell_type": "code",
      "source": [
        "from google.colab import files\n",
        "import xml.etree.ElementTree as ET\n",
        "import pandas as pd\n",
        "import os\n",
        "\n",
        "# 📤 העלאת קבצים\n",
        "uploaded = files.upload()\n",
        "\n",
        "# 🧩 פונקציה שמעבדת XML של החזרות\n",
        "def process_return_xml(xml_content, source_name):\n",
        "    root = ET.fromstring(xml_content)\n",
        "    ns = {'ns': 'http://www.inditex.com/Schemas/Ecommerce/ItxReturnRequest'}\n",
        "    rows = []\n",
        "\n",
        "    for ret in root.findall('ns:ReturnRequest', ns):\n",
        "        order_data = {\n",
        "            \"SourceName\": source_name,\n",
        "            \"OrderNumber\": ret.findtext('ns:OrderNumber', default='', namespaces=ns),\n",
        "            \"CustomerOrderNumber\": ret.findtext('ns:CustomerOrderNumber', default='', namespaces=ns),\n",
        "            \"ReturnIdentifier\": ret.findtext('ns:ReturnIdentifier', default='', namespaces=ns),\n",
        "            \"ReturnBoxIdentifier\": ret.findtext('ns:ReturnBoxIdentifier', default='', namespaces=ns),\n",
        "            \"ReturnRequestDate\": ret.findtext('ns:ReturnRequestDate', default='', namespaces=ns),\n",
        "            \"CustomerReturnRequestType\": ret.findtext('ns:CustomerReturnRequestType', default='', namespaces=ns),\n",
        "            \"Brand\": ret.findtext('ns:Brand', default='', namespaces=ns),\n",
        "        }\n",
        "\n",
        "        # כתובת איסוף\n",
        "        pickup = ret.find('ns:PickUpAddress', ns)\n",
        "        if pickup is not None:\n",
        "            order_data.update({\n",
        "                \"CustomerName\": pickup.attrib.get(\"CustomerName\", \"\"),\n",
        "                \"CustomerSurname\": pickup.attrib.get(\"CustomerSurName\", \"\"),\n",
        "                \"PickupCity\": pickup.attrib.get(\"City\", \"\"),\n",
        "                \"PickupAddress\": pickup.attrib.get(\"AddressLine1\", \"\"),\n",
        "                \"Phone\": pickup.attrib.get(\"PhoneNumber1\", \"\"),\n",
        "                \"Email\": pickup.attrib.get(\"Email\", \"\")\n",
        "            })\n",
        "\n",
        "        # פריטים\n",
        "        lines = ret.find('ns:Lines', ns)\n",
        "        if lines is not None:\n",
        "            for line in lines.findall('ns:Line', ns):\n",
        "                row = order_data.copy()\n",
        "                row.update({\n",
        "                    \"SKU\": line.attrib.get(\"SKU\", \"\"),\n",
        "                    \"Quantity\": line.attrib.get(\"Quantity\", \"\")\n",
        "                })\n",
        "                rows.append(row)\n",
        "\n",
        "    return rows\n",
        "\n",
        "# 🔄 עיבוד כל הקבצים\n",
        "all_rows = []\n",
        "\n",
        "for file_name, content in uploaded.items():\n",
        "    source_name = os.path.splitext(file_name)[0]\n",
        "    rows = process_return_xml(content.decode('utf-8'), source_name)\n",
        "    all_rows.extend(rows)\n",
        "\n",
        "# 📄 יצירת Excel\n",
        "df = pd.DataFrame(all_rows)\n",
        "output_file = \"returns_combined.xlsx\"\n",
        "df.to_excel(output_file, index=False)\n",
        "\n",
        "# 📥 הורדה\n",
        "files.download(output_file)\n"
      ],
      "metadata": {
        "id": "5mEfw9odEMGG"
      },
      "execution_count": null,
      "outputs": []
    }
  ]
}